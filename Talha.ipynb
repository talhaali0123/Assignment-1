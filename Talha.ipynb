{
 "cells": [
  {
   "cell_type": "code",
   "execution_count": 1,
   "metadata": {},
   "outputs": [
    {
     "name": "stdout",
     "output_type": "stream",
     "text": [
      "Enter marks out of 100:45\n",
      "Enter marks out of 100:65\n",
      "Enter marks out of 100:76\n",
      "Enter marks out of 100:76\n",
      "Enter marks out of 100:87\n",
      " ########## MARK SHEET ###########  \n",
      "Mathematics Marks :  45 \n",
      "English Marks :  65 \n",
      "Urdu :  76 \n",
      "Islamiat :  76 \n",
      "Sindhi :  87\n",
      "Grade is B\n",
      "Pass\n"
     ]
    }
   ],
   "source": [
    "\n",
    "Mathematics=int(input(\"Enter marks out of 100:\"))\n",
    "english=int(input(\"Enter marks out of 100:\"))\n",
    "Urdu=int(input(\"Enter marks out of 100:\"))\n",
    "Islamiat=int(input(\"Enter marks out of 100:\"))\n",
    "Sindhi=int(input(\"Enter marks out of 100:\"))\n",
    "total_marks=500\n",
    "print(\" ########## MARK SHEET ########### \",\"\\nMathematics Marks : \",Mathematics,\"\\nEnglish Marks : \",english,\"\\nUrdu : \",Urdu,\"\\nIslamiat : \",Islamiat,\"\\nSindhi : \",Sindhi)\n",
    "Marks_Obtained=Mathematics+english+Urdu+Islamiat+Sindhi\n",
    "Percentage=(Marks_Obtained/total_marks)*100\n",
    "if (Percentage>=80 and Percentage<=100):\n",
    "        print(\"Grade is A+\\nPass\")\n",
    "elif (Percentage<80 and Percentage>=70):\n",
    "        print(\"Grade is A\\nPass\")\n",
    "elif (Percentage<70 and Percentage>=60):\n",
    "        print(\"Grade is B\\nPass\")\n",
    "elif (Percentage<60 and Percentage>=50):\n",
    "        print(\"Grade is C\\nPass\")\n",
    "elif (Percentage<50 and Percentage>=40):\n",
    "        print(\"Grade is D\\nPass\")\n",
    "else:\n",
    "        print(\"Grade is F\\nFail\")"
   ]
  },
  {
   "cell_type": "code",
   "execution_count": 2,
   "metadata": {},
   "outputs": [
    {
     "name": "stdout",
     "output_type": "stream",
     "text": [
      "enter number: 34\n",
      "34  is even number\n"
     ]
    }
   ],
   "source": [
    "num=int(input(\"enter number: \"))\n",
    "if num%2==0:\n",
    "    print(num, \" is even number\")\n",
    "else:\n",
    "    print(num, \" is odd number\")"
   ]
  },
  {
   "cell_type": "code",
   "execution_count": 3,
   "metadata": {},
   "outputs": [
    {
     "name": "stdout",
     "output_type": "stream",
     "text": [
      "Enter range :4\n",
      "Enter : 1\n",
      "Enter : 2\n",
      "Enter : 3\n",
      "Enter : 4\n",
      "[1, 2, 3, 4]\n",
      "4\n"
     ]
    }
   ],
   "source": [
    "l=[]\n",
    "r=int(input('Enter range :'))\n",
    "for i in range(r):\n",
    "    s=int(input('Enter : '))\n",
    "    l.append(s)\n",
    "print(l)\n",
    "print(len(l))"
   ]
  },
  {
   "cell_type": "code",
   "execution_count": 4,
   "metadata": {},
   "outputs": [
    {
     "name": "stdout",
     "output_type": "stream",
     "text": [
      "Enter range :2\n",
      "Enter : 1\n",
      "Enter : 2\n",
      "[1, 2]\n",
      "3\n"
     ]
    }
   ],
   "source": [
    "l=[]\n",
    "r=int(input('Enter range :'))\n",
    "for i in range(r):\n",
    "    s=int(input('Enter : '))\n",
    "    l.append(s)\n",
    "print(l)\n",
    "print(sum(l))\n"
   ]
  },
  {
   "cell_type": "code",
   "execution_count": 5,
   "metadata": {},
   "outputs": [
    {
     "name": "stdout",
     "output_type": "stream",
     "text": [
      "Enter range :1\n",
      "Enter : 1\n",
      "[1]\n",
      "1\n"
     ]
    }
   ],
   "source": [
    "\n",
    "l=[]\n",
    "r=int(input('Enter range :'))\n",
    "for i in range(r):\n",
    "    s=int(input('Enter : '))\n",
    "    l.append(s)\n",
    "print(l)\n",
    "print(max(l))"
   ]
  },
  {
   "cell_type": "code",
   "execution_count": 7,
   "metadata": {},
   "outputs": [
    {
     "name": "stdout",
     "output_type": "stream",
     "text": [
      "1\n",
      "3\n",
      "2\n",
      "4\n"
     ]
    }
   ],
   "source": [
    "a = [1, 3, 2, 4, 5, 8, 13, 21, 34, 55, 89]\n",
    "for i in range(len(a)):\n",
    "    if a[i]<5:\n",
    "        print(a[i])\n",
    "    else: None"
   ]
  },
  {
   "cell_type": "code",
   "execution_count": null,
   "metadata": {},
   "outputs": [],
   "source": []
  }
 ],
 "metadata": {
  "kernelspec": {
   "display_name": "Python 3",
   "language": "python",
   "name": "python3"
  },
  "language_info": {
   "codemirror_mode": {
    "name": "ipython",
    "version": 3
   },
   "file_extension": ".py",
   "mimetype": "text/x-python",
   "name": "python",
   "nbconvert_exporter": "python",
   "pygments_lexer": "ipython3",
   "version": "3.7.3"
  }
 },
 "nbformat": 4,
 "nbformat_minor": 2
}
