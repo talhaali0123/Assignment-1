{
 "cells": [
  {
   "cell_type": "code",
   "execution_count": null,
   "metadata": {},
   "outputs": [],
   "source": [
    "print('Q1')\n",
    "person = {\n",
    "    'first_name': 'Umama',\n",
    "    'last_name': 'Nasir',\n",
    "    'age': 20,\n",
    "    'city': 'karachi',\n",
    "    }\n",
    "\n",
    "print(person['first_name'])\n",
    "print(person['last_name'])\n",
    "print(person['age'])\n",
    "print(person['city'])\n",
    "#Adding key value pair\n",
    "person.update(Qualification = 'Intermediate' )\n",
    "#Updating Qualification\n",
    "person.update(Qualification = 'high academic level')\n",
    "#deleteing key \n",
    "del person['Qualification']\n"
   ]
  },
  {
   "cell_type": "code",
   "execution_count": null,
   "metadata": {},
   "outputs": [],
   "source": [
    "print('Q2')\n",
    "cities = {\n",
    "    'Jerusalem': {\n",
    "        'country': 'State of Palestine',\n",
    "        'population': 874186,\n",
    "        'Fact': ' Masjid al-Aqsa(Bayt al-Maqdis) third holiest site in Islam',\n",
    "        },\n",
    "    'Makkah al-Mukarramah': {\n",
    "        'country': 'Kingdom of Saudi Arabia',\n",
    "        'population': 1675368,\n",
    "        'Fact': ' Holiest city of Islamic Releigion',\n",
    "        },\n",
    "    'Aleppo': {\n",
    "        'country': 'Syrian Arab Republic',\n",
    "        'population': 1834093,\n",
    "        'Fact': ' Syrian Civil war',\n",
    "        }\n",
    "    }\n",
    "\n",
    "for city, city_info in cities.items():\n",
    "    country = city_info['country'].title()\n",
    "    population = city_info['population']\n",
    "    Facts= city_info['Fact'].title()\n",
    "\n",
    "    print(\"\\n\" + city.title() + \" is in \" + country + \".\")\n",
    "    print(\"  It has a population of about \" + str(population) + \".\")\n",
    "    print(\"  This country is very famous because of\" + Facts + \".\" )\n"
   ]
  },
  {
   "cell_type": "code",
   "execution_count": null,
   "metadata": {},
   "outputs": [],
   "source": [
    "print('Q3')\n",
    "age=int(input(\"Enter Your age: \"))\n",
    "if age<3:\n",
    "    print(\"Your Ticket is Free\")\n",
    "elif age>=3 and age<=12:\n",
    "    print(\"Ticket price is $10\")\n",
    "\n",
    "elif age>10:\n",
    "    print(\"Ticket price is $15\")\n",
    "\n",
    "else:\n",
    "    print(\"Invalid Input\")\n"
   ]
  },
  {
   "cell_type": "code",
   "execution_count": null,
   "metadata": {},
   "outputs": [],
   "source": [
    "print('Q4')\n",
    "def favorite_book(title):\n",
    "    \"\"\"Display a message about someone's favorite book.\"\"\"\n",
    "    print(title + \" is one of my favorite books.\")\n",
    "\n",
    "favorite_book('Al-Chemist')\n"
   ]
  },
  {
   "cell_type": "code",
   "execution_count": null,
   "metadata": {},
   "outputs": [],
   "source": [
    "print('Q5')\n",
    "import random\n",
    "guessesTaken = 0\n",
    "print('Hello! What is your name?')\n",
    "myName = input()\n",
    "number = random.randint(1, 30)\n",
    "\n",
    "print('Well, ' + myName + ', I am thinking of a number between 1 and 30.')\n",
    "\n",
    "while guessesTaken < 3:\n",
    "    print('Take a guess.') # There are four spaces in front of print.\n",
    "    guess = input()\n",
    "    guess = int(guess)\n",
    "    guessesTaken = guessesTaken + 1\n",
    "    if guess < number:\n",
    "        print('Your guess is too low.') # There are eight spaces in front of print.\n",
    "    if guess > number:\n",
    "            print('Your guess is too high.')\n",
    "    if guess == number:\n",
    "        break\n",
    "\n",
    "if guess == number:\n",
    "    guessesTaken = str(guessesTaken)\n",
    "    print('Good job, ' + myName + '! You guessed my number in ' + guessesTaken + ' guesses!')\n",
    "\n",
    "if guess != number:\n",
    "    number = str(number)\n",
    "    print('Nope. The number I was thinking of was ' + number)\n",
    "\n"
   ]
  }
 ],
 "metadata": {
  "kernelspec": {
   "display_name": "Python 3",
   "language": "python",
   "name": "python3"
  },
  "language_info": {
   "codemirror_mode": {
    "name": "ipython",
    "version": 3
   },
   "file_extension": ".py",
   "mimetype": "text/x-python",
   "name": "python",
   "nbconvert_exporter": "python",
   "pygments_lexer": "ipython3",
   "version": "3.7.3"
  }
 },
 "nbformat": 4,
 "nbformat_minor": 2
}
