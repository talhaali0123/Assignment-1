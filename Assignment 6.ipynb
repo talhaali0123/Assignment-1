{
 "cells": [
  {
   "cell_type": "markdown",
   "metadata": {},
   "source": [
    "# Assignment # 6"
   ]
  },
  {
   "cell_type": "markdown",
   "metadata": {},
   "source": [
    "# Question 1:"
   ]
  },
  {
   "cell_type": "markdown",
   "metadata": {},
   "source": [
    "Define Object Oriented Programming Language?"
   ]
  },
  {
   "cell_type": "markdown",
   "metadata": {},
   "source": [
    "Object-oriented programming (OOP) refers to a type of computer programming (software design) in which programmers define the data type of a data structure, and also the types of operations (functions) that can be applied to the data structure.\n",
    "In this way, the data structure becomes an object that includes both data and functions. In addition, programmers can create relationships between one object and another. For example, objects can inherit characteristics from other objects. Following are the features of OOP:\n",
    "•\tAbstraction: The process of picking out (abstracting) common features of objects and procedures.\n",
    "•\tClass: A category of objects. The class defines all the common properties of the different objects that belong to it.\n",
    "•\tEncapsulation: The process of combining elements to create a new entity. A procedure is a type of encapsulation because it combines a series of computer instructions.\n",
    "•\tInformation hiding: The process of hiding details of an object or function. Information hiding is a powerful programming technique because it reduces complexity.\n",
    "•\tInheritance: a feature that represents the \"is a\" relationship between different classes.\n",
    "•\tInterface: the languages and codes that the applications use to communicate with each other and with the hardware.\n",
    "•\tMessaging: Message passing is a form of communication used in parallel programming and object-oriented programming.\n",
    "•\tObject: a self-contained entity that consists of both data and procedures to manipulate the data.\n",
    "•\tPolymorphism: A programming language's ability to process objects differently depending on their data type or class.\n",
    "•\tProcedure: a section of a program that performs a specific task."
   ]
  },
  {
   "cell_type": "markdown",
   "metadata": {},
   "source": [
    "# Question 2:"
   ]
  },
  {
   "cell_type": "markdown",
   "metadata": {},
   "source": [
    "List down the Benefits of OOP?"
   ]
  },
  {
   "cell_type": "markdown",
   "metadata": {},
   "source": [
    "•\tIt provides a clear modular structure for programs which makes it good for defining abstract datatypes in which implementation details are hidden\n",
    "•\tObjects can also be reused within an across applications. The reuse of software also lowers the cost of development. More effort is put into the object-oriented analysis and design, which lowers the overall cost of development.\n",
    "•\tIt makes software easier to maintain. Since the design is modular, part of the system can be updated in case of issues without a need to make large-scale changes\n",
    "•\tReuse also enables faster development. Object-oriented programming languages come with rich libraries of objects, and code developed during projects is also reusable in future projects.\n",
    "•\tIt provides a good framework for code libraries where the supplied software components can be easily adapted and modified by the programmer. This is particularly useful for developing graphical user interfaces.\n",
    "•\tBetter Productivity as OOP techniques enforce rules on a programmer that, in the long run, help her get more work done; finished programs work better, have more features and are easier to read and maintain. OOP programmers take new and existing software objects and \"stitch\" them together to make new programs.\n",
    "        Because object libraries contain many useful functions, software developers don't have to reinvent the wheel as often; more of their time goes into making the new program.\n"
   ]
  },
  {
   "cell_type": "markdown",
   "metadata": {},
   "source": [
    "# Question 3:\n"
   ]
  },
  {
   "cell_type": "markdown",
   "metadata": {},
   "source": [
    "Differentiate between function and method?"
   ]
  },
  {
   "cell_type": "markdown",
   "metadata": {},
   "source": [
    "METHOD\n",
    "•\tMethod is called by its name, but it is associated to an object (dependent).\n",
    "•\tA method is implicitly passed the object on which it is invoked.\n",
    "•\tIt may or may not return any data.\n",
    "•\tA method can operate on the data (instance variables) that is contained by the corresponding class\n",
    "FUNCTION\n",
    "•\tFunction is block of code that is also called by its name. (independent)\n",
    "•\tThe function can have different parameters or may not have any at all. If any data (parameters) are passed, they are passed explicitly.\n",
    "•\tIt may or may not return any data.\n",
    "•\tFunction does not deal with Class and its instance concept."
   ]
  },
  {
   "cell_type": "markdown",
   "metadata": {},
   "source": [
    "# Question 4:"
   ]
  },
  {
   "cell_type": "markdown",
   "metadata": {},
   "source": [
    "Define the following terms:\n",
    "1. Class\n",
    "2. Object\n",
    "3. Attribute\n",
    "4. Behavior"
   ]
  },
  {
   "cell_type": "markdown",
   "metadata": {},
   "source": [
    "CLASS: Classes (OOP) In object-oriented programming, a class is a blueprint for creating objects (a particular data structure), providing initial\n",
    "       values for state (member variables or attributes), and implementations of behavior (member functions or methods). The user-defined objects\n",
    "       are created using the class keyword.\n",
    "\n",
    "OBJECT: Each object is an instance of a particular class or subclass with the class's own methods or procedures and data variables.\n",
    "        An object is what actually runs in the computer.\n",
    "\n",
    "AATRIBUTES: In Object-oriented programming(OOP), classes and objects have attributes. Attributes are data stored inside a class or instance and\n",
    "            represent the state or quality of the class or instance. In short, attributes store information about the instance. Also, attributes\n",
    "            should not be confused with class functions also known as methods. One can think of attributes as noun or adjective, while methods are\n",
    "            the verb of the class.\n",
    "\n",
    "BEHAVIOR: A class's behavior determines how an instance of that class operates; for example, how it will \"react\" if asked to do something by another\n",
    "          class or object or if its internal state changes. Behavior is the only way objects can do anything to themselves or have anything done to\n",
    "          them.\n"
   ]
  },
  {
   "cell_type": "markdown",
   "metadata": {},
   "source": [
    "# Question 5:"
   ]
  },
  {
   "cell_type": "markdown",
   "metadata": {},
   "source": [
    "Write a code in python in which create a class named it Car which\n",
    "have 5 attributes such like (model, color and name etc.) and 3\n",
    "methods. And create 5 object instance from that class."
   ]
  },
  {
   "cell_type": "code",
   "execution_count": 1,
   "metadata": {},
   "outputs": [
    {
     "name": "stdout",
     "output_type": "stream",
     "text": [
      "CAR1\n",
      "----------\n",
      "Name: Corolla\n",
      "Color: White\n",
      "Model: GDH-25\n",
      "Brand: Toyota\n",
      "Fuel_used: Petrol\n",
      "CAR2\n",
      "----------\n",
      "Name: Camry\n",
      "Color: Silver\n",
      "Model: KSK-36\n",
      "Brand: Toyota\n",
      "Fuel_used: CNG\n",
      "CAR3\n",
      "----------\n",
      "Name: Picanto\n",
      "Color: Red\n",
      "Model: FAD-25\n",
      "Brand: Kia\n",
      "Fuel_used: Diesel\n",
      "CAR4\n",
      "----------\n",
      "Name: Aspire\n",
      "Color: White\n",
      "Model: AKW-19\n",
      "Brand: Ford\n",
      "Fuel_used: Petrol\n",
      "CAR5\n",
      "----------\n",
      "Name: Mustang\n",
      "Color: Blue\n",
      "Model: LPW-18\n",
      "Brand: Ford\n",
      "Fuel_used: Diesel\n"
     ]
    }
   ],
   "source": [
    "class car():\n",
    "    def __init__(self,model, name, color, brand, fuel_used):\n",
    "        self.name= name\n",
    "        self.model= model\n",
    "        self.color= color\n",
    "        self.brand=brand\n",
    "        self.fuel_used=fuel_used\n",
    "    def get_common_details(self):\n",
    "        print('Name:' , self.name)\n",
    "        print('Color:', self.color)\n",
    "    def get_specific_details(self):\n",
    "        print('Model:' , self.model)\n",
    "        print('Brand:', self.brand)\n",
    "        print('Fuel_used:', self.fuel_used)\n",
    "\n",
    "car1=car('GDH-25','Corolla','White','Toyota','Petrol')\n",
    "print('CAR1')\n",
    "print('----------')\n",
    "car1.get_common_details()\n",
    "car1.get_specific_details()\n",
    "car2=car('KSK-36','Camry','Silver','Toyota','CNG')\n",
    "print('CAR2')\n",
    "print('----------')\n",
    "car2.get_common_details()\n",
    "car2.get_specific_details()\n",
    "car3=car('FAD-25','Picanto','Red','Kia', 'Diesel')\n",
    "print('CAR3')\n",
    "print('----------')\n",
    "car3.get_common_details()\n",
    "car3.get_specific_details()\n",
    "car4=car('AKW-19','Aspire','White','Ford','Petrol')\n",
    "print('CAR4')\n",
    "print('----------')\n",
    "car4.get_common_details()\n",
    "car4.get_specific_details()\n",
    "car5=car('LPW-18', 'Mustang','Blue','Ford','Diesel')\n",
    "print('CAR5')\n",
    "print('----------')\n",
    "car5.get_common_details()\n",
    "car5.get_specific_details()"
   ]
  },
  {
   "cell_type": "code",
   "execution_count": null,
   "metadata": {},
   "outputs": [],
   "source": []
  }
 ],
 "metadata": {
  "kernelspec": {
   "display_name": "Python 3",
   "language": "python",
   "name": "python3"
  },
  "language_info": {
   "codemirror_mode": {
    "name": "ipython",
    "version": 3
   },
   "file_extension": ".py",
   "mimetype": "text/x-python",
   "name": "python",
   "nbconvert_exporter": "python",
   "pygments_lexer": "ipython3",
   "version": "3.7.3"
  }
 },
 "nbformat": 4,
 "nbformat_minor": 2
}
